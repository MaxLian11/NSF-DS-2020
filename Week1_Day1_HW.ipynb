{
 "cells": [
  {
   "cell_type": "code",
   "execution_count": 5,
   "metadata": {},
   "outputs": [
    {
     "name": "stdout",
     "output_type": "stream",
     "text": [
      "test pi #1:  2.9760461760461765\n",
      "test pi #2:  3.017071817071818\n",
      "test pi #3:  3.1415925535897915\n",
      "pi:  0.7853981383974479\n"
     ]
    }
   ],
   "source": [
    "from math import pi\n",
    "\n",
    "print(\"test pi #1: \", 4*(1-1/3+1/5-1/7+1/9-1/11)) # print pi after 5 steps\n",
    "print(\"test pi #2: \",4*(1-1/3+1/5-1/7+1/9-1/11+1/13-1/15)) # print pi after 7 steps\n",
    "\n",
    "pi = 1\n",
    "for i in range (1, 10000000): # let's do 10 millions steps using a for loop (for fun)\n",
    "    if (i % 2 == 0):\n",
    "        pi += 1/(1 + i*2)\n",
    "    else:\n",
    "        pi -= 1/(1 + i*2)\n",
    "\n",
    "print(\"test pi #3: \", 4 * pi) # pi after 10 millions steps\n",
    "print(\"pi: \", pi)"
   ]
  },
  {
   "cell_type": "code",
   "execution_count": 7,
   "metadata": {},
   "outputs": [
    {
     "name": "stdout",
     "output_type": "stream",
     "text": [
      "year 1:  314812582 \n",
      "year 2:  317592678 \n",
      "year 3:  320372774 \n",
      "year 4:  323152870 \n",
      "year 5:  325932966\n"
     ]
    }
   ],
   "source": [
    "pop = 312032486\n",
    "year_change = ((365 * 24 * 60 * 60) // 7 ) - \\\n",
    "                ((365 * 24 * 60 * 60) // 13) + \\\n",
    "                ((365 * 24 * 60 * 60) // 45)\n",
    "year1 = pop + year_change\n",
    "year2 = year1 + year_change\n",
    "year3 = year2 + year_change\n",
    "year4 = year3 + year_change\n",
    "year5 = year4 + year_change\n",
    "\n",
    "print(\"year 1: \", year1, \"\\nyear 2: \", year2, \n",
    "        \"\\nyear 3: \", year3, \"\\nyear 4: \", year4, \n",
    "          \"\\nyear 5: \", year5)"
   ]
  },
  {
   "cell_type": "code",
   "execution_count": 8,
   "metadata": {},
   "outputs": [
    {
     "name": "stdout",
     "output_type": "stream",
     "text": [
      "Inter investment amount: 10000\n",
      "Enter annual interest rate: 7\n",
      "Enter number of years: 1\n",
      "Future inverstment value:  10722.9\n"
     ]
    }
   ],
   "source": [
    "inverstmentAmount = float(input(\"Inter investment amount: \"))\n",
    "\n",
    "enter_interest = float(input(\"Enter annual interest rate: \"))\n",
    "monthlyInterestRate = enter_interest / 1200\n",
    "\n",
    "enter_month = float(input(\"Enter number of years: \"))\n",
    "numberOfMonths = enter_month * 12\n",
    "\n",
    "futureInverstmentValue = inverstmentAmount * \\\n",
    "    (1.0 + monthlyInterestRate) ** numberOfMonths\n",
    "\n",
    "print(\"Future inverstment value: \", round(futureInverstmentValue, 2))"
   ]
  },
  {
   "cell_type": "code",
   "execution_count": null,
   "metadata": {},
   "outputs": [],
   "source": []
  }
 ],
 "metadata": {
  "kernelspec": {
   "display_name": "Python 3",
   "language": "python",
   "name": "python3"
  },
  "language_info": {
   "codemirror_mode": {
    "name": "ipython",
    "version": 3
   },
   "file_extension": ".py",
   "mimetype": "text/x-python",
   "name": "python",
   "nbconvert_exporter": "python",
   "pygments_lexer": "ipython3",
   "version": "3.7.6"
  }
 },
 "nbformat": 4,
 "nbformat_minor": 4
}
