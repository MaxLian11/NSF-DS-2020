{
 "cells": [
  {
   "cell_type": "code",
   "execution_count": 3,
   "metadata": {},
   "outputs": [
    {
     "name": "stdout",
     "output_type": "stream",
     "text": [
      "Enter a number: 64\n",
      "Enter a number: 324\n",
      "The square root of  64  is  8\n",
      "The square root of  324  is  18\n"
     ]
    }
   ],
   "source": [
    "n = int(input(\"Enter a number: \"))\n",
    "n2 = int(input(\"Enter a number: \"))\n",
    "\n",
    "def sqrt(n):\n",
    "    small_number = .0001\n",
    "    difference = 0.1 # initial difference > small_number\n",
    "    nextGuess = n/2 # initial guess is maximum half of the initial value (if input is 4, then sqrt(4) is half of 4)\n",
    "    lastGuess = n\n",
    "        \n",
    "    while(difference >= small_number):\n",
    "        nextGuess = (lastGuess + (n / lastGuess)) / 2\n",
    "        difference = abs(nextGuess - lastGuess)\n",
    "        lastGuess = nextGuess\n",
    "    return int(nextGuess)\n",
    "\n",
    "print(\"The square root of \",str(n),\" is \",str(sqrt(n)))\n",
    "print(\"The square root of \",str(n2),\" is \",str(sqrt(n2)))"
   ]
  },
  {
   "cell_type": "code",
   "execution_count": 2,
   "metadata": {},
   "outputs": [
    {
     "name": "stdout",
     "output_type": "stream",
     "text": [
      "Enter the number of sides: 5\n",
      "Enter the side: 6.5\n",
      "The area of the polygon is : 72.69017017488386\n"
     ]
    }
   ],
   "source": [
    "import math\n",
    "\n",
    "n = float(input(\"Enter the number of sides: \"))\n",
    "side = float(input(\"Enter the side: \"))\n",
    "def area(n, side):\n",
    "    area1 = (n * side ** 2) / (4 * float(math.tan(math.pi / n)))\n",
    "    return area1\n",
    "print(\"The area of the polygon is :\", area(n, side))"
   ]
  },
  {
   "cell_type": "code",
   "execution_count": null,
   "metadata": {},
   "outputs": [
    {
     "name": "stdout",
     "output_type": "stream",
     "text": [
      "Enter password: 156274658764587165\n",
      "A password must consist of only letters and digits.\n"
     ]
    }
   ],
   "source": [
    "def check(passw):\n",
    "    if len(passw) < 8:\n",
    "        print(\"A password must have at least eight characters.\")\n",
    "        return False\n",
    "    if passw.isdigit() or passw.isalpha():\n",
    "        print(\"A password must consist of only letters and digits.\")\n",
    "        return False\n",
    "    digits = 0\n",
    "    for char in passw:\n",
    "        if char.isdigit():\n",
    "            digits+=1\n",
    "    if digits < 2:\n",
    "        print(\"A password must contain at least two digits.\")\n",
    "        return False\n",
    "    return True\n",
    "\n",
    "while(True):\n",
    "    passw = input(\"Enter password: \")\n",
    "    x = check(passw)\n",
    "    if x:\n",
    "        print(\"Pasword is valid\")\n",
    "        break"
   ]
  },
  {
   "cell_type": "code",
   "execution_count": 6,
   "metadata": {},
   "outputs": [
    {
     "name": "stdout",
     "output_type": "stream",
     "text": [
      "Enter string and a character: madmax m\n",
      "There are  2 'm' in \"madmax\"\n",
      "Enter string and a character: pneumonoultramicroscopicsilicovolcanoconiosis s\n",
      "There are  4 's' in \"pneumonoultramicroscopicsilicovolcanoconiosis\"\n"
     ]
    }
   ],
   "source": [
    "def count(s, ch):\n",
    "    count = 0\n",
    "    for char in s:\n",
    "        if char == ch:\n",
    "            count+=1\n",
    "    return count\n",
    "s, ch = input(\"Enter string and a character: \").split()\n",
    "print(\"There are \", count(s, ch), \"'\" + str(ch) + \"' in \\\"\" + str(s) + \"\\\"\")\n",
    "s, ch = input(\"Enter string and a character: \").split()\n",
    "print(\"There are \", count(s, ch), \"'\" + str(ch) + \"' in \\\"\" + str(s) + \"\\\"\")"
   ]
  },
  {
   "cell_type": "code",
   "execution_count": null,
   "metadata": {},
   "outputs": [],
   "source": []
  }
 ],
 "metadata": {
  "kernelspec": {
   "display_name": "Python 3",
   "language": "python",
   "name": "python3"
  },
  "language_info": {
   "codemirror_mode": {
    "name": "ipython",
    "version": 3
   },
   "file_extension": ".py",
   "mimetype": "text/x-python",
   "name": "python",
   "nbconvert_exporter": "python",
   "pygments_lexer": "ipython3",
   "version": "3.7.6"
  }
 },
 "nbformat": 4,
 "nbformat_minor": 4
}
