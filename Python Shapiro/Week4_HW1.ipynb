{
 "cells": [
  {
   "cell_type": "markdown",
   "metadata": {},
   "source": [
    "# Monday, July 27, 2020\n"
   ]
  },
  {
   "cell_type": "markdown",
   "metadata": {},
   "source": [
    "# Part  (a)"
   ]
  },
  {
   "cell_type": "code",
   "execution_count": 1,
   "metadata": {
    "scrolled": true
   },
   "outputs": [
    {
     "data": {
      "text/html": [
       "<div>\n",
       "<style scoped>\n",
       "    .dataframe tbody tr th:only-of-type {\n",
       "        vertical-align: middle;\n",
       "    }\n",
       "\n",
       "    .dataframe tbody tr th {\n",
       "        vertical-align: top;\n",
       "    }\n",
       "\n",
       "    .dataframe thead th {\n",
       "        text-align: right;\n",
       "    }\n",
       "</style>\n",
       "<table border=\"1\" class=\"dataframe\">\n",
       "  <thead>\n",
       "    <tr style=\"text-align: right;\">\n",
       "      <th></th>\n",
       "      <th>1000025</th>\n",
       "      <th>5</th>\n",
       "      <th>1</th>\n",
       "      <th>1.1</th>\n",
       "      <th>1.2</th>\n",
       "      <th>2</th>\n",
       "      <th>1.3</th>\n",
       "      <th>3</th>\n",
       "      <th>1.4</th>\n",
       "      <th>1.5</th>\n",
       "      <th>2.1</th>\n",
       "    </tr>\n",
       "  </thead>\n",
       "  <tbody>\n",
       "    <tr>\n",
       "      <th>0</th>\n",
       "      <td>1002945</td>\n",
       "      <td>5</td>\n",
       "      <td>4</td>\n",
       "      <td>4</td>\n",
       "      <td>5</td>\n",
       "      <td>7</td>\n",
       "      <td>10</td>\n",
       "      <td>3</td>\n",
       "      <td>2</td>\n",
       "      <td>1</td>\n",
       "      <td>2</td>\n",
       "    </tr>\n",
       "    <tr>\n",
       "      <th>1</th>\n",
       "      <td>1015425</td>\n",
       "      <td>3</td>\n",
       "      <td>1</td>\n",
       "      <td>1</td>\n",
       "      <td>1</td>\n",
       "      <td>2</td>\n",
       "      <td>2</td>\n",
       "      <td>3</td>\n",
       "      <td>1</td>\n",
       "      <td>1</td>\n",
       "      <td>2</td>\n",
       "    </tr>\n",
       "    <tr>\n",
       "      <th>2</th>\n",
       "      <td>1016277</td>\n",
       "      <td>6</td>\n",
       "      <td>8</td>\n",
       "      <td>8</td>\n",
       "      <td>1</td>\n",
       "      <td>3</td>\n",
       "      <td>4</td>\n",
       "      <td>3</td>\n",
       "      <td>7</td>\n",
       "      <td>1</td>\n",
       "      <td>2</td>\n",
       "    </tr>\n",
       "    <tr>\n",
       "      <th>3</th>\n",
       "      <td>1017023</td>\n",
       "      <td>4</td>\n",
       "      <td>1</td>\n",
       "      <td>1</td>\n",
       "      <td>3</td>\n",
       "      <td>2</td>\n",
       "      <td>1</td>\n",
       "      <td>3</td>\n",
       "      <td>1</td>\n",
       "      <td>1</td>\n",
       "      <td>2</td>\n",
       "    </tr>\n",
       "    <tr>\n",
       "      <th>4</th>\n",
       "      <td>1017122</td>\n",
       "      <td>8</td>\n",
       "      <td>10</td>\n",
       "      <td>10</td>\n",
       "      <td>8</td>\n",
       "      <td>7</td>\n",
       "      <td>10</td>\n",
       "      <td>9</td>\n",
       "      <td>7</td>\n",
       "      <td>1</td>\n",
       "      <td>4</td>\n",
       "    </tr>\n",
       "  </tbody>\n",
       "</table>\n",
       "</div>"
      ],
      "text/plain": [
       "   1000025  5   1  1.1  1.2  2  1.3  3  1.4  1.5  2.1\n",
       "0  1002945  5   4    4    5  7   10  3    2    1    2\n",
       "1  1015425  3   1    1    1  2    2  3    1    1    2\n",
       "2  1016277  6   8    8    1  3    4  3    7    1    2\n",
       "3  1017023  4   1    1    3  2    1  3    1    1    2\n",
       "4  1017122  8  10   10    8  7   10  9    7    1    4"
      ]
     },
     "execution_count": 1,
     "metadata": {},
     "output_type": "execute_result"
    }
   ],
   "source": [
    "import pandas as pd\n",
    "import numpy as np\n",
    "import matplotlib.pyplot as plt\n",
    "\n",
    "# cannot connect to ics.uci.edu. \n",
    "#     used alternative source with the same data, but in txt file and with fixed Bare Nuclei column\n",
    "# url = \"https://archive.ics.uci.edu/ml/machine-learning-databases/\n",
    "            #   breast-cancer-wisconsin/breast-cancer-wisconsin.data\"\n",
    "data = pd.read_csv(\"data.txt\")\n",
    "data.head()"
   ]
  },
  {
   "cell_type": "code",
   "execution_count": 2,
   "metadata": {},
   "outputs": [
    {
     "data": {
      "text/html": [
       "<div>\n",
       "<style scoped>\n",
       "    .dataframe tbody tr th:only-of-type {\n",
       "        vertical-align: middle;\n",
       "    }\n",
       "\n",
       "    .dataframe tbody tr th {\n",
       "        vertical-align: top;\n",
       "    }\n",
       "\n",
       "    .dataframe thead th {\n",
       "        text-align: right;\n",
       "    }\n",
       "</style>\n",
       "<table border=\"1\" class=\"dataframe\">\n",
       "  <thead>\n",
       "    <tr style=\"text-align: right;\">\n",
       "      <th></th>\n",
       "      <th>ID</th>\n",
       "      <th>Clump Thickness</th>\n",
       "      <th>Uniformity of Cell Size</th>\n",
       "      <th>Uniformity of Cell Shape</th>\n",
       "      <th>Marginal Adhesion</th>\n",
       "      <th>Single Epithelial Cell Size</th>\n",
       "      <th>Bare Nuclei</th>\n",
       "      <th>Bland Chromatin</th>\n",
       "      <th>Normal Nucleoli</th>\n",
       "      <th>Mitoses</th>\n",
       "      <th>Class</th>\n",
       "    </tr>\n",
       "  </thead>\n",
       "  <tbody>\n",
       "    <tr>\n",
       "      <th>194</th>\n",
       "      <td>1212422</td>\n",
       "      <td>4</td>\n",
       "      <td>1</td>\n",
       "      <td>1</td>\n",
       "      <td>1</td>\n",
       "      <td>2</td>\n",
       "      <td>1</td>\n",
       "      <td>3</td>\n",
       "      <td>1</td>\n",
       "      <td>1</td>\n",
       "      <td>2</td>\n",
       "    </tr>\n",
       "    <tr>\n",
       "      <th>109</th>\n",
       "      <td>1171795</td>\n",
       "      <td>1</td>\n",
       "      <td>3</td>\n",
       "      <td>1</td>\n",
       "      <td>2</td>\n",
       "      <td>2</td>\n",
       "      <td>2</td>\n",
       "      <td>5</td>\n",
       "      <td>3</td>\n",
       "      <td>2</td>\n",
       "      <td>2</td>\n",
       "    </tr>\n",
       "    <tr>\n",
       "      <th>0</th>\n",
       "      <td>1002945</td>\n",
       "      <td>5</td>\n",
       "      <td>4</td>\n",
       "      <td>4</td>\n",
       "      <td>5</td>\n",
       "      <td>7</td>\n",
       "      <td>10</td>\n",
       "      <td>3</td>\n",
       "      <td>2</td>\n",
       "      <td>1</td>\n",
       "      <td>2</td>\n",
       "    </tr>\n",
       "    <tr>\n",
       "      <th>71</th>\n",
       "      <td>1124651</td>\n",
       "      <td>1</td>\n",
       "      <td>3</td>\n",
       "      <td>3</td>\n",
       "      <td>2</td>\n",
       "      <td>2</td>\n",
       "      <td>1</td>\n",
       "      <td>7</td>\n",
       "      <td>2</td>\n",
       "      <td>1</td>\n",
       "      <td>2</td>\n",
       "    </tr>\n",
       "    <tr>\n",
       "      <th>625</th>\n",
       "      <td>1190386</td>\n",
       "      <td>4</td>\n",
       "      <td>6</td>\n",
       "      <td>6</td>\n",
       "      <td>5</td>\n",
       "      <td>7</td>\n",
       "      <td>6</td>\n",
       "      <td>7</td>\n",
       "      <td>7</td>\n",
       "      <td>3</td>\n",
       "      <td>4</td>\n",
       "    </tr>\n",
       "  </tbody>\n",
       "</table>\n",
       "</div>"
      ],
      "text/plain": [
       "          ID  Clump Thickness  Uniformity of Cell Size  \\\n",
       "194  1212422                4                        1   \n",
       "109  1171795                1                        3   \n",
       "0    1002945                5                        4   \n",
       "71   1124651                1                        3   \n",
       "625  1190386                4                        6   \n",
       "\n",
       "     Uniformity of Cell Shape  Marginal Adhesion  Single Epithelial Cell Size  \\\n",
       "194                         1                  1                            2   \n",
       "109                         1                  2                            2   \n",
       "0                           4                  5                            7   \n",
       "71                          3                  2                            2   \n",
       "625                         6                  5                            7   \n",
       "\n",
       "     Bare Nuclei  Bland Chromatin  Normal Nucleoli  Mitoses  Class  \n",
       "194            1                3                1        1      2  \n",
       "109            2                5                3        2      2  \n",
       "0             10                3                2        1      2  \n",
       "71             1                7                2        1      2  \n",
       "625            6                7                7        3      4  "
      ]
     },
     "execution_count": 2,
     "metadata": {},
     "output_type": "execute_result"
    }
   ],
   "source": [
    "data.columns = [\n",
    "    \"ID\", \n",
    "    \"Clump Thickness\",\n",
    "    \"Uniformity of Cell Size\",\n",
    "    \"Uniformity of Cell Shape\",\n",
    "    \"Marginal Adhesion\",\n",
    "    \"Single Epithelial Cell Size\",\n",
    "    \"Bare Nuclei\",\n",
    "    \"Bland Chromatin\",\n",
    "    \"Normal Nucleoli\",\n",
    "    \"Mitoses\",\n",
    "    \"Class\"\n",
    "]\n",
    "data.sample(5)"
   ]
  },
  {
   "cell_type": "code",
   "execution_count": 3,
   "metadata": {},
   "outputs": [
    {
     "name": "stdout",
     "output_type": "stream",
     "text": [
      "<class 'pandas.core.frame.DataFrame'>\n",
      "RangeIndex: 698 entries, 0 to 697\n",
      "Data columns (total 11 columns):\n",
      " #   Column                       Non-Null Count  Dtype\n",
      "---  ------                       --------------  -----\n",
      " 0   ID                           698 non-null    int64\n",
      " 1   Clump Thickness              698 non-null    int64\n",
      " 2   Uniformity of Cell Size      698 non-null    int64\n",
      " 3   Uniformity of Cell Shape     698 non-null    int64\n",
      " 4   Marginal Adhesion            698 non-null    int64\n",
      " 5   Single Epithelial Cell Size  698 non-null    int64\n",
      " 6   Bare Nuclei                  698 non-null    int64\n",
      " 7   Bland Chromatin              698 non-null    int64\n",
      " 8   Normal Nucleoli              698 non-null    int64\n",
      " 9   Mitoses                      698 non-null    int64\n",
      " 10  Class                        698 non-null    int64\n",
      "dtypes: int64(11)\n",
      "memory usage: 60.1 KB\n"
     ]
    }
   ],
   "source": [
    "data.info()"
   ]
  },
  {
   "cell_type": "code",
   "execution_count": 4,
   "metadata": {},
   "outputs": [
    {
     "data": {
      "text/plain": [
       "1     401\n",
       "10    132\n",
       "5      30\n",
       "2      30\n",
       "3      28\n",
       "8      21\n",
       "4      19\n",
       "0      16\n",
       "9       9\n",
       "7       8\n",
       "6       4\n",
       "Name: Bare Nuclei, dtype: int64"
      ]
     },
     "execution_count": 4,
     "metadata": {},
     "output_type": "execute_result"
    }
   ],
   "source": [
    "data[\"Bare Nuclei\"].value_counts() \n",
    "# in this dataset, there are 16 '0' instead of 16 '?', comparing to the UCI data file. \n",
    "# assume it is correct and there are some 0 values for Bare Nuclei. \n",
    "# it is always better to clarify what it is and clean this data"
   ]
  },
  {
   "cell_type": "code",
   "execution_count": 5,
   "metadata": {},
   "outputs": [
    {
     "data": {
      "text/html": [
       "<div>\n",
       "<style scoped>\n",
       "    .dataframe tbody tr th:only-of-type {\n",
       "        vertical-align: middle;\n",
       "    }\n",
       "\n",
       "    .dataframe tbody tr th {\n",
       "        vertical-align: top;\n",
       "    }\n",
       "\n",
       "    .dataframe thead th {\n",
       "        text-align: right;\n",
       "    }\n",
       "</style>\n",
       "<table border=\"1\" class=\"dataframe\">\n",
       "  <thead>\n",
       "    <tr style=\"text-align: right;\">\n",
       "      <th></th>\n",
       "      <th>Clump Thickness</th>\n",
       "      <th>Uniformity of Cell Size</th>\n",
       "      <th>Uniformity of Cell Shape</th>\n",
       "      <th>Marginal Adhesion</th>\n",
       "      <th>Single Epithelial Cell Size</th>\n",
       "      <th>Bare Nuclei</th>\n",
       "      <th>Bland Chromatin</th>\n",
       "      <th>Normal Nucleoli</th>\n",
       "      <th>Mitoses</th>\n",
       "      <th>Class</th>\n",
       "    </tr>\n",
       "  </thead>\n",
       "  <tbody>\n",
       "    <tr>\n",
       "      <th>281</th>\n",
       "      <td>1</td>\n",
       "      <td>4</td>\n",
       "      <td>3</td>\n",
       "      <td>10</td>\n",
       "      <td>4</td>\n",
       "      <td>10</td>\n",
       "      <td>5</td>\n",
       "      <td>6</td>\n",
       "      <td>1</td>\n",
       "      <td>1</td>\n",
       "    </tr>\n",
       "    <tr>\n",
       "      <th>78</th>\n",
       "      <td>2</td>\n",
       "      <td>1</td>\n",
       "      <td>1</td>\n",
       "      <td>1</td>\n",
       "      <td>3</td>\n",
       "      <td>1</td>\n",
       "      <td>2</td>\n",
       "      <td>1</td>\n",
       "      <td>1</td>\n",
       "      <td>0</td>\n",
       "    </tr>\n",
       "    <tr>\n",
       "      <th>234</th>\n",
       "      <td>3</td>\n",
       "      <td>1</td>\n",
       "      <td>4</td>\n",
       "      <td>1</td>\n",
       "      <td>2</td>\n",
       "      <td>0</td>\n",
       "      <td>3</td>\n",
       "      <td>1</td>\n",
       "      <td>1</td>\n",
       "      <td>0</td>\n",
       "    </tr>\n",
       "    <tr>\n",
       "      <th>167</th>\n",
       "      <td>3</td>\n",
       "      <td>1</td>\n",
       "      <td>1</td>\n",
       "      <td>1</td>\n",
       "      <td>2</td>\n",
       "      <td>1</td>\n",
       "      <td>3</td>\n",
       "      <td>1</td>\n",
       "      <td>1</td>\n",
       "      <td>0</td>\n",
       "    </tr>\n",
       "    <tr>\n",
       "      <th>178</th>\n",
       "      <td>5</td>\n",
       "      <td>3</td>\n",
       "      <td>3</td>\n",
       "      <td>3</td>\n",
       "      <td>6</td>\n",
       "      <td>10</td>\n",
       "      <td>3</td>\n",
       "      <td>1</td>\n",
       "      <td>1</td>\n",
       "      <td>1</td>\n",
       "    </tr>\n",
       "  </tbody>\n",
       "</table>\n",
       "</div>"
      ],
      "text/plain": [
       "     Clump Thickness  Uniformity of Cell Size  Uniformity of Cell Shape  \\\n",
       "281                1                        4                         3   \n",
       "78                 2                        1                         1   \n",
       "234                3                        1                         4   \n",
       "167                3                        1                         1   \n",
       "178                5                        3                         3   \n",
       "\n",
       "     Marginal Adhesion  Single Epithelial Cell Size  Bare Nuclei  \\\n",
       "281                 10                            4           10   \n",
       "78                   1                            3            1   \n",
       "234                  1                            2            0   \n",
       "167                  1                            2            1   \n",
       "178                  3                            6           10   \n",
       "\n",
       "     Bland Chromatin  Normal Nucleoli  Mitoses  Class  \n",
       "281                5                6        1      1  \n",
       "78                 2                1        1      0  \n",
       "234                3                1        1      0  \n",
       "167                3                1        1      0  \n",
       "178                3                1        1      1  "
      ]
     },
     "execution_count": 5,
     "metadata": {},
     "output_type": "execute_result"
    }
   ],
   "source": [
    "# change 4 to 1 and 2 to 0 in class column\n",
    "data['Class'].replace(4, 1, inplace=True)\n",
    "data['Class'].replace(2, 0, inplace=True)\n",
    "\n",
    "data.drop(['ID'], axis=1, inplace=True)\n",
    "data.sample(5)"
   ]
  },
  {
   "cell_type": "code",
   "execution_count": 6,
   "metadata": {},
   "outputs": [
    {
     "data": {
      "text/plain": [
       "['Clump Thickness',\n",
       " 'Uniformity of Cell Size',\n",
       " 'Uniformity of Cell Shape',\n",
       " 'Marginal Adhesion',\n",
       " 'Single Epithelial Cell Size',\n",
       " 'Bare Nuclei',\n",
       " 'Bland Chromatin',\n",
       " 'Normal Nucleoli',\n",
       " 'Mitoses']"
      ]
     },
     "execution_count": 6,
     "metadata": {},
     "output_type": "execute_result"
    }
   ],
   "source": [
    "columns_list = list(data.drop(['Class'], axis=1).columns) \n",
    "# eliminate Class column as it is going to be our Y, and the rest will be our X\n",
    "\n",
    "columns_list"
   ]
  },
  {
   "cell_type": "code",
   "execution_count": 7,
   "metadata": {},
   "outputs": [
    {
     "data": {
      "text/html": [
       "<div>\n",
       "<style scoped>\n",
       "    .dataframe tbody tr th:only-of-type {\n",
       "        vertical-align: middle;\n",
       "    }\n",
       "\n",
       "    .dataframe tbody tr th {\n",
       "        vertical-align: top;\n",
       "    }\n",
       "\n",
       "    .dataframe thead th {\n",
       "        text-align: right;\n",
       "    }\n",
       "</style>\n",
       "<table border=\"1\" class=\"dataframe\">\n",
       "  <thead>\n",
       "    <tr style=\"text-align: right;\">\n",
       "      <th></th>\n",
       "      <th>Clump Thickness</th>\n",
       "      <th>Uniformity of Cell Size</th>\n",
       "      <th>Uniformity of Cell Shape</th>\n",
       "      <th>Marginal Adhesion</th>\n",
       "      <th>Single Epithelial Cell Size</th>\n",
       "      <th>Bare Nuclei</th>\n",
       "      <th>Bland Chromatin</th>\n",
       "      <th>Normal Nucleoli</th>\n",
       "      <th>Mitoses</th>\n",
       "      <th>Class</th>\n",
       "    </tr>\n",
       "  </thead>\n",
       "  <tbody>\n",
       "    <tr>\n",
       "      <th>count</th>\n",
       "      <td>698.000000</td>\n",
       "      <td>698.000000</td>\n",
       "      <td>698.000000</td>\n",
       "      <td>698.000000</td>\n",
       "      <td>698.000000</td>\n",
       "      <td>698.000000</td>\n",
       "      <td>698.000000</td>\n",
       "      <td>698.000000</td>\n",
       "      <td>698.000000</td>\n",
       "      <td>698.000000</td>\n",
       "    </tr>\n",
       "    <tr>\n",
       "      <th>mean</th>\n",
       "      <td>4.416905</td>\n",
       "      <td>3.137536</td>\n",
       "      <td>3.210602</td>\n",
       "      <td>2.809456</td>\n",
       "      <td>3.217765</td>\n",
       "      <td>3.467049</td>\n",
       "      <td>3.438395</td>\n",
       "      <td>2.869628</td>\n",
       "      <td>1.590258</td>\n",
       "      <td>0.345272</td>\n",
       "    </tr>\n",
       "    <tr>\n",
       "      <th>std</th>\n",
       "      <td>2.817673</td>\n",
       "      <td>3.052575</td>\n",
       "      <td>2.972867</td>\n",
       "      <td>2.856606</td>\n",
       "      <td>2.215408</td>\n",
       "      <td>3.642122</td>\n",
       "      <td>2.440056</td>\n",
       "      <td>3.055004</td>\n",
       "      <td>1.716162</td>\n",
       "      <td>0.475798</td>\n",
       "    </tr>\n",
       "    <tr>\n",
       "      <th>min</th>\n",
       "      <td>1.000000</td>\n",
       "      <td>1.000000</td>\n",
       "      <td>1.000000</td>\n",
       "      <td>1.000000</td>\n",
       "      <td>1.000000</td>\n",
       "      <td>0.000000</td>\n",
       "      <td>1.000000</td>\n",
       "      <td>1.000000</td>\n",
       "      <td>1.000000</td>\n",
       "      <td>0.000000</td>\n",
       "    </tr>\n",
       "    <tr>\n",
       "      <th>25%</th>\n",
       "      <td>2.000000</td>\n",
       "      <td>1.000000</td>\n",
       "      <td>1.000000</td>\n",
       "      <td>1.000000</td>\n",
       "      <td>2.000000</td>\n",
       "      <td>1.000000</td>\n",
       "      <td>2.000000</td>\n",
       "      <td>1.000000</td>\n",
       "      <td>1.000000</td>\n",
       "      <td>0.000000</td>\n",
       "    </tr>\n",
       "    <tr>\n",
       "      <th>50%</th>\n",
       "      <td>4.000000</td>\n",
       "      <td>1.000000</td>\n",
       "      <td>1.000000</td>\n",
       "      <td>1.000000</td>\n",
       "      <td>2.000000</td>\n",
       "      <td>1.000000</td>\n",
       "      <td>3.000000</td>\n",
       "      <td>1.000000</td>\n",
       "      <td>1.000000</td>\n",
       "      <td>0.000000</td>\n",
       "    </tr>\n",
       "    <tr>\n",
       "      <th>75%</th>\n",
       "      <td>6.000000</td>\n",
       "      <td>5.000000</td>\n",
       "      <td>5.000000</td>\n",
       "      <td>4.000000</td>\n",
       "      <td>4.000000</td>\n",
       "      <td>5.000000</td>\n",
       "      <td>5.000000</td>\n",
       "      <td>4.000000</td>\n",
       "      <td>1.000000</td>\n",
       "      <td>1.000000</td>\n",
       "    </tr>\n",
       "    <tr>\n",
       "      <th>max</th>\n",
       "      <td>10.000000</td>\n",
       "      <td>10.000000</td>\n",
       "      <td>10.000000</td>\n",
       "      <td>10.000000</td>\n",
       "      <td>10.000000</td>\n",
       "      <td>10.000000</td>\n",
       "      <td>10.000000</td>\n",
       "      <td>10.000000</td>\n",
       "      <td>10.000000</td>\n",
       "      <td>1.000000</td>\n",
       "    </tr>\n",
       "  </tbody>\n",
       "</table>\n",
       "</div>"
      ],
      "text/plain": [
       "       Clump Thickness  Uniformity of Cell Size  Uniformity of Cell Shape  \\\n",
       "count       698.000000               698.000000                698.000000   \n",
       "mean          4.416905                 3.137536                  3.210602   \n",
       "std           2.817673                 3.052575                  2.972867   \n",
       "min           1.000000                 1.000000                  1.000000   \n",
       "25%           2.000000                 1.000000                  1.000000   \n",
       "50%           4.000000                 1.000000                  1.000000   \n",
       "75%           6.000000                 5.000000                  5.000000   \n",
       "max          10.000000                10.000000                 10.000000   \n",
       "\n",
       "       Marginal Adhesion  Single Epithelial Cell Size  Bare Nuclei  \\\n",
       "count         698.000000                   698.000000   698.000000   \n",
       "mean            2.809456                     3.217765     3.467049   \n",
       "std             2.856606                     2.215408     3.642122   \n",
       "min             1.000000                     1.000000     0.000000   \n",
       "25%             1.000000                     2.000000     1.000000   \n",
       "50%             1.000000                     2.000000     1.000000   \n",
       "75%             4.000000                     4.000000     5.000000   \n",
       "max            10.000000                    10.000000    10.000000   \n",
       "\n",
       "       Bland Chromatin  Normal Nucleoli     Mitoses       Class  \n",
       "count       698.000000       698.000000  698.000000  698.000000  \n",
       "mean          3.438395         2.869628    1.590258    0.345272  \n",
       "std           2.440056         3.055004    1.716162    0.475798  \n",
       "min           1.000000         1.000000    1.000000    0.000000  \n",
       "25%           2.000000         1.000000    1.000000    0.000000  \n",
       "50%           3.000000         1.000000    1.000000    0.000000  \n",
       "75%           5.000000         4.000000    1.000000    1.000000  \n",
       "max          10.000000        10.000000   10.000000    1.000000  "
      ]
     },
     "execution_count": 7,
     "metadata": {},
     "output_type": "execute_result"
    }
   ],
   "source": [
    "data.describe()"
   ]
  },
  {
   "cell_type": "code",
   "execution_count": 8,
   "metadata": {},
   "outputs": [
    {
     "name": "stdout",
     "output_type": "stream",
     "text": [
      "0 Clump Thickness\n",
      "1 Uniformity of Cell Size\n",
      "2 Uniformity of Cell Shape\n",
      "3 Marginal Adhesion\n",
      "4 Single Epithelial Cell Size\n",
      "5 Bare Nuclei\n",
      "6 Bland Chromatin\n",
      "7 Normal Nucleoli\n",
      "8 Mitoses\n"
     ]
    }
   ],
   "source": [
    "for i in columns_list: # how the feature list loop works\n",
    "    print(columns_list.index(i), i)"
   ]
  },
  {
   "cell_type": "code",
   "execution_count": 9,
   "metadata": {},
   "outputs": [
    {
     "data": {
      "text/html": [
       "<div>\n",
       "<style scoped>\n",
       "    .dataframe tbody tr th:only-of-type {\n",
       "        vertical-align: middle;\n",
       "    }\n",
       "\n",
       "    .dataframe tbody tr th {\n",
       "        vertical-align: top;\n",
       "    }\n",
       "\n",
       "    .dataframe thead th {\n",
       "        text-align: right;\n",
       "    }\n",
       "</style>\n",
       "<table border=\"1\" class=\"dataframe\">\n",
       "  <thead>\n",
       "    <tr style=\"text-align: right;\">\n",
       "      <th></th>\n",
       "      <th>Clump Thickness</th>\n",
       "      <th>Uniformity of Cell Size</th>\n",
       "      <th>Uniformity of Cell Shape</th>\n",
       "      <th>Marginal Adhesion</th>\n",
       "      <th>Single Epithelial Cell Size</th>\n",
       "      <th>Bare Nuclei</th>\n",
       "      <th>Bland Chromatin</th>\n",
       "      <th>Normal Nucleoli</th>\n",
       "      <th>Mitoses</th>\n",
       "      <th>Class</th>\n",
       "    </tr>\n",
       "  </thead>\n",
       "  <tbody>\n",
       "    <tr>\n",
       "      <th>512</th>\n",
       "      <td>3</td>\n",
       "      <td>1</td>\n",
       "      <td>1</td>\n",
       "      <td>1</td>\n",
       "      <td>1</td>\n",
       "      <td>1</td>\n",
       "      <td>2</td>\n",
       "      <td>1</td>\n",
       "      <td>1</td>\n",
       "      <td>0</td>\n",
       "    </tr>\n",
       "    <tr>\n",
       "      <th>378</th>\n",
       "      <td>5</td>\n",
       "      <td>3</td>\n",
       "      <td>4</td>\n",
       "      <td>1</td>\n",
       "      <td>4</td>\n",
       "      <td>1</td>\n",
       "      <td>3</td>\n",
       "      <td>1</td>\n",
       "      <td>1</td>\n",
       "      <td>0</td>\n",
       "    </tr>\n",
       "    <tr>\n",
       "      <th>237</th>\n",
       "      <td>8</td>\n",
       "      <td>10</td>\n",
       "      <td>10</td>\n",
       "      <td>8</td>\n",
       "      <td>6</td>\n",
       "      <td>9</td>\n",
       "      <td>3</td>\n",
       "      <td>10</td>\n",
       "      <td>10</td>\n",
       "      <td>1</td>\n",
       "    </tr>\n",
       "    <tr>\n",
       "      <th>629</th>\n",
       "      <td>6</td>\n",
       "      <td>2</td>\n",
       "      <td>3</td>\n",
       "      <td>1</td>\n",
       "      <td>2</td>\n",
       "      <td>1</td>\n",
       "      <td>1</td>\n",
       "      <td>1</td>\n",
       "      <td>1</td>\n",
       "      <td>0</td>\n",
       "    </tr>\n",
       "    <tr>\n",
       "      <th>58</th>\n",
       "      <td>9</td>\n",
       "      <td>5</td>\n",
       "      <td>5</td>\n",
       "      <td>2</td>\n",
       "      <td>2</td>\n",
       "      <td>2</td>\n",
       "      <td>5</td>\n",
       "      <td>1</td>\n",
       "      <td>1</td>\n",
       "      <td>1</td>\n",
       "    </tr>\n",
       "  </tbody>\n",
       "</table>\n",
       "</div>"
      ],
      "text/plain": [
       "     Clump Thickness  Uniformity of Cell Size  Uniformity of Cell Shape  \\\n",
       "512                3                        1                         1   \n",
       "378                5                        3                         4   \n",
       "237                8                       10                        10   \n",
       "629                6                        2                         3   \n",
       "58                 9                        5                         5   \n",
       "\n",
       "     Marginal Adhesion  Single Epithelial Cell Size  Bare Nuclei  \\\n",
       "512                  1                            1            1   \n",
       "378                  1                            4            1   \n",
       "237                  8                            6            9   \n",
       "629                  1                            2            1   \n",
       "58                   2                            2            2   \n",
       "\n",
       "     Bland Chromatin  Normal Nucleoli  Mitoses  Class  \n",
       "512                2                1        1      0  \n",
       "378                3                1        1      0  \n",
       "237                3               10       10      1  \n",
       "629                1                1        1      0  \n",
       "58                 5                1        1      1  "
      ]
     },
     "execution_count": 9,
     "metadata": {},
     "output_type": "execute_result"
    }
   ],
   "source": [
    "data.sample(5)"
   ]
  },
  {
   "cell_type": "code",
   "execution_count": 10,
   "metadata": {},
   "outputs": [
    {
     "data": {
      "image/png": "[encoded data removed]",
      "text/plain": [
       "<Figure size 720x720 with 1 Axes>"
      ]
     },
     "metadata": {
      "needs_background": "light"
     },
     "output_type": "display_data"
    }
   ],
   "source": [
    "from sklearn.linear_model import LogisticRegression\n",
    "from sklearn.model_selection import train_test_split\n",
    "from sklearn.metrics import roc_curve, accuracy_score\n",
    "\n",
    "# fit model for each column\n",
    "for i in columns_list:\n",
    "    \n",
    "    model = LogisticRegression()\n",
    "    \n",
    "    x_train, x_test, y_train, y_test = train_test_split(np.array(data[i]).reshape(-1,1), data[\"Class\"])\n",
    "    \n",
    "    model.fit(x_train, y_train)\n",
    "    \n",
    "    y_predicted = model.predict(x_test)\n",
    "    \n",
    "    accuracy = accuracy_score(y_test, y_predicted)\n",
    "    \n",
    "    y_scores = model.predict_proba(x_test)[:,1]\n",
    "    \n",
    "    FPR, TPR, _ = roc_curve(y_test, y_scores)\n",
    "    \n",
    "    plt.plot(FPR, TPR, label = str(columns_list[columns_list.index(i)]) + \". Accuracy: \" + str(round(accuracy,5)))\n",
    "\n",
    "# another plot to fit all features together\n",
    "\n",
    "model = LogisticRegression()\n",
    "x_train, x_test, y_train, y_test = train_test_split(np.array(data), data[\"Class\"])\n",
    "model.fit(x_train, y_train) \n",
    "y_predicted = model.predict(x_test)\n",
    "accuracy = accuracy_score(y_test, y_predicted)  \n",
    "y_scores = model.predict_proba(x_test)[:,1]\n",
    "FPR, TPR, _ = roc_curve(y_test, y_scores)\n",
    "plt.plot(FPR, TPR, c=\"cyan\", linewidth=3, label = \"All features\" + \". Accuracy: \" + str(round(accuracy,5)))\n",
    "\n",
    "\n",
    "plt.plot([0,1],[0,1],c=\"k\",ls=\"--\") # print a diagonal line\n",
    "plt.grid()\n",
    "plt.xlabel(\"False Positive Rate\",fontsize=14)\n",
    "plt.ylabel(\"True Positive Rate\",fontsize=14)\n",
    "plt.title(\"Breast Cancer Indicators\")\n",
    "plt.legend()\n",
    "plt.gcf().set_size_inches(10,10)\n"
   ]
  },
  {
   "cell_type": "markdown",
   "metadata": {},
   "source": [
    "# Part  (b)\n",
    "# Lecture practice"
   ]
  },
  {
   "cell_type": "code",
   "execution_count": 1,
   "metadata": {},
   "outputs": [
    {
     "data": {
      "text/html": [
       "<div>\n",
       "<style scoped>\n",
       "    .dataframe tbody tr th:only-of-type {\n",
       "        vertical-align: middle;\n",
       "    }\n",
       "\n",
       "    .dataframe tbody tr th {\n",
       "        vertical-align: top;\n",
       "    }\n",
       "\n",
       "    .dataframe thead th {\n",
       "        text-align: right;\n",
       "    }\n",
       "</style>\n",
       "<table border=\"1\" class=\"dataframe\">\n",
       "  <thead>\n",
       "    <tr style=\"text-align: right;\">\n",
       "      <th></th>\n",
       "      <th>SALE TYPE</th>\n",
       "      <th>SOLD DATE</th>\n",
       "      <th>PROPERTY TYPE</th>\n",
       "      <th>ADDRESS</th>\n",
       "      <th>CITY</th>\n",
       "      <th>STATE OR PROVINCE</th>\n",
       "      <th>ZIP OR POSTAL CODE</th>\n",
       "      <th>PRICE</th>\n",
       "      <th>BEDS</th>\n",
       "      <th>BATHS</th>\n",
       "      <th>...</th>\n",
       "      <th>STATUS</th>\n",
       "      <th>NEXT OPEN HOUSE START TIME</th>\n",
       "      <th>NEXT OPEN HOUSE END TIME</th>\n",
       "      <th>URL (SEE http://www.redfin.com/buy-a-home/comparative-market-analysis FOR INFO ON PRICING)</th>\n",
       "      <th>SOURCE</th>\n",
       "      <th>MLS#</th>\n",
       "      <th>FAVORITE</th>\n",
       "      <th>INTERESTED</th>\n",
       "      <th>LATITUDE</th>\n",
       "      <th>LONGITUDE</th>\n",
       "    </tr>\n",
       "  </thead>\n",
       "  <tbody>\n",
       "    <tr>\n",
       "      <th>0</th>\n",
       "      <td>MLS Listing</td>\n",
       "      <td>NaN</td>\n",
       "      <td>Single Family Residential</td>\n",
       "      <td>470 19th St</td>\n",
       "      <td>Santa Monica</td>\n",
       "      <td>CA</td>\n",
       "      <td>90402</td>\n",
       "      <td>5690000</td>\n",
       "      <td>5.0</td>\n",
       "      <td>6.0</td>\n",
       "      <td>...</td>\n",
       "      <td>Active</td>\n",
       "      <td>NaN</td>\n",
       "      <td>NaN</td>\n",
       "      <td>http://www.redfin.com/CA/Santa-Monica/470-19th...</td>\n",
       "      <td>CRMLS</td>\n",
       "      <td>PW20143609</td>\n",
       "      <td>N</td>\n",
       "      <td>Y</td>\n",
       "      <td>34.038695</td>\n",
       "      <td>-118.494311</td>\n",
       "    </tr>\n",
       "    <tr>\n",
       "      <th>1</th>\n",
       "      <td>MLS Listing</td>\n",
       "      <td>NaN</td>\n",
       "      <td>Single Family Residential</td>\n",
       "      <td>801 Stanford St</td>\n",
       "      <td>Santa Monica</td>\n",
       "      <td>CA</td>\n",
       "      <td>90403</td>\n",
       "      <td>3749000</td>\n",
       "      <td>2.0</td>\n",
       "      <td>2.5</td>\n",
       "      <td>...</td>\n",
       "      <td>Active</td>\n",
       "      <td>NaN</td>\n",
       "      <td>NaN</td>\n",
       "      <td>http://www.redfin.com/CA/Santa-Monica/801-Stan...</td>\n",
       "      <td>CRMLS</td>\n",
       "      <td>BB20129635</td>\n",
       "      <td>N</td>\n",
       "      <td>Y</td>\n",
       "      <td>34.044506</td>\n",
       "      <td>-118.479619</td>\n",
       "    </tr>\n",
       "    <tr>\n",
       "      <th>2</th>\n",
       "      <td>MLS Listing</td>\n",
       "      <td>NaN</td>\n",
       "      <td>Condo/Co-op</td>\n",
       "      <td>1319 11th St #5</td>\n",
       "      <td>Santa Monica</td>\n",
       "      <td>CA</td>\n",
       "      <td>90401</td>\n",
       "      <td>649000</td>\n",
       "      <td>1.0</td>\n",
       "      <td>1.0</td>\n",
       "      <td>...</td>\n",
       "      <td>Active</td>\n",
       "      <td>NaN</td>\n",
       "      <td>NaN</td>\n",
       "      <td>http://www.redfin.com/CA/Santa-Monica/1319-11t...</td>\n",
       "      <td>TheMLS</td>\n",
       "      <td>20-586222</td>\n",
       "      <td>N</td>\n",
       "      <td>Y</td>\n",
       "      <td>34.022926</td>\n",
       "      <td>-118.489348</td>\n",
       "    </tr>\n",
       "    <tr>\n",
       "      <th>3</th>\n",
       "      <td>MLS Listing</td>\n",
       "      <td>NaN</td>\n",
       "      <td>Condo/Co-op</td>\n",
       "      <td>848 Lincoln Blvd Unit A</td>\n",
       "      <td>Santa Monica</td>\n",
       "      <td>CA</td>\n",
       "      <td>90403</td>\n",
       "      <td>1299000</td>\n",
       "      <td>2.0</td>\n",
       "      <td>2.5</td>\n",
       "      <td>...</td>\n",
       "      <td>Active</td>\n",
       "      <td>NaN</td>\n",
       "      <td>NaN</td>\n",
       "      <td>http://www.redfin.com/CA/Santa-Monica/848-Linc...</td>\n",
       "      <td>TheMLS</td>\n",
       "      <td>20-565224</td>\n",
       "      <td>N</td>\n",
       "      <td>Y</td>\n",
       "      <td>34.026306</td>\n",
       "      <td>-118.499872</td>\n",
       "    </tr>\n",
       "    <tr>\n",
       "      <th>4</th>\n",
       "      <td>PAST SALE</td>\n",
       "      <td>July-10-2020</td>\n",
       "      <td>Condo/Co-op</td>\n",
       "      <td>2721 2nd St #212</td>\n",
       "      <td>Santa Monica</td>\n",
       "      <td>CA</td>\n",
       "      <td>90405</td>\n",
       "      <td>669000</td>\n",
       "      <td>1.0</td>\n",
       "      <td>1.0</td>\n",
       "      <td>...</td>\n",
       "      <td>Sold</td>\n",
       "      <td>NaN</td>\n",
       "      <td>NaN</td>\n",
       "      <td>http://www.redfin.com/CA/Santa-Monica/2721-2nd...</td>\n",
       "      <td>TheMLS</td>\n",
       "      <td>20-582852</td>\n",
       "      <td>N</td>\n",
       "      <td>Y</td>\n",
       "      <td>34.001021</td>\n",
       "      <td>-118.481070</td>\n",
       "    </tr>\n",
       "  </tbody>\n",
       "</table>\n",
       "<p>5 rows × 27 columns</p>\n",
       "</div>"
      ],
      "text/plain": [
       "     SALE TYPE     SOLD DATE              PROPERTY TYPE  \\\n",
       "0  MLS Listing           NaN  Single Family Residential   \n",
       "1  MLS Listing           NaN  Single Family Residential   \n",
       "2  MLS Listing           NaN                Condo/Co-op   \n",
       "3  MLS Listing           NaN                Condo/Co-op   \n",
       "4    PAST SALE  July-10-2020                Condo/Co-op   \n",
       "\n",
       "                   ADDRESS          CITY STATE OR PROVINCE  \\\n",
       "0              470 19th St  Santa Monica                CA   \n",
       "1          801 Stanford St  Santa Monica                CA   \n",
       "2          1319 11th St #5  Santa Monica                CA   \n",
       "3  848 Lincoln Blvd Unit A  Santa Monica                CA   \n",
       "4         2721 2nd St #212  Santa Monica                CA   \n",
       "\n",
       "   ZIP OR POSTAL CODE    PRICE  BEDS  BATHS  ...  STATUS  \\\n",
       "0               90402  5690000   5.0    6.0  ...  Active   \n",
       "1               90403  3749000   2.0    2.5  ...  Active   \n",
       "2               90401   649000   1.0    1.0  ...  Active   \n",
       "3               90403  1299000   2.0    2.5  ...  Active   \n",
       "4               90405   669000   1.0    1.0  ...    Sold   \n",
       "\n",
       "   NEXT OPEN HOUSE START TIME  NEXT OPEN HOUSE END TIME  \\\n",
       "0                         NaN                       NaN   \n",
       "1                         NaN                       NaN   \n",
       "2                         NaN                       NaN   \n",
       "3                         NaN                       NaN   \n",
       "4                         NaN                       NaN   \n",
       "\n",
       "   URL (SEE http://www.redfin.com/buy-a-home/comparative-market-analysis FOR INFO ON PRICING)  \\\n",
       "0  http://www.redfin.com/CA/Santa-Monica/470-19th...                                            \n",
       "1  http://www.redfin.com/CA/Santa-Monica/801-Stan...                                            \n",
       "2  http://www.redfin.com/CA/Santa-Monica/1319-11t...                                            \n",
       "3  http://www.redfin.com/CA/Santa-Monica/848-Linc...                                            \n",
       "4  http://www.redfin.com/CA/Santa-Monica/2721-2nd...                                            \n",
       "\n",
       "   SOURCE        MLS#  FAVORITE INTERESTED   LATITUDE   LONGITUDE  \n",
       "0   CRMLS  PW20143609         N          Y  34.038695 -118.494311  \n",
       "1   CRMLS  BB20129635         N          Y  34.044506 -118.479619  \n",
       "2  TheMLS   20-586222         N          Y  34.022926 -118.489348  \n",
       "3  TheMLS   20-565224         N          Y  34.026306 -118.499872  \n",
       "4  TheMLS   20-582852         N          Y  34.001021 -118.481070  \n",
       "\n",
       "[5 rows x 27 columns]"
      ]
     },
     "execution_count": 1,
     "metadata": {},
     "output_type": "execute_result"
    }
   ],
   "source": [
    "import pandas as pd\n",
    "import numpy as np\n",
    "import matplotlib.pyplot as plt\n",
    "\n",
    "redfin_data = pd.read_csv(\"redfin.csv\")\n",
    "redfin_data.head()"
   ]
  },
  {
   "cell_type": "code",
   "execution_count": 2,
   "metadata": {},
   "outputs": [
    {
     "data": {
      "text/plain": [
       "array(['SALE TYPE', 'SOLD DATE', 'PROPERTY TYPE', 'ADDRESS', 'CITY',\n",
       "       'STATE OR PROVINCE', 'ZIP OR POSTAL CODE', 'PRICE', 'BEDS',\n",
       "       'BATHS', 'LOCATION', 'SQUARE FEET', 'LOT SIZE', 'YEAR BUILT',\n",
       "       'DAYS ON MARKET', '$/SQUARE FEET', 'HOA/MONTH', 'STATUS',\n",
       "       'NEXT OPEN HOUSE START TIME', 'NEXT OPEN HOUSE END TIME',\n",
       "       'URL (SEE http://www.redfin.com/buy-a-home/comparative-market-analysis FOR INFO ON PRICING)',\n",
       "       'SOURCE', 'MLS#', 'FAVORITE', 'INTERESTED', 'LATITUDE',\n",
       "       'LONGITUDE'], dtype=object)"
      ]
     },
     "execution_count": 2,
     "metadata": {},
     "output_type": "execute_result"
    }
   ],
   "source": [
    "np.array(redfin_data.columns)"
   ]
  },
  {
   "cell_type": "code",
   "execution_count": 3,
   "metadata": {},
   "outputs": [
    {
     "data": {
      "text/plain": [
       "(350, 27)"
      ]
     },
     "execution_count": 3,
     "metadata": {},
     "output_type": "execute_result"
    }
   ],
   "source": [
    "redfin_data.columns = [name.lower() for name in redfin_data.columns]\n",
    "redfin_data.shape"
   ]
  },
  {
   "cell_type": "code",
   "execution_count": 4,
   "metadata": {},
   "outputs": [
    {
     "data": {
      "text/html": [
       "<div>\n",
       "<style scoped>\n",
       "    .dataframe tbody tr th:only-of-type {\n",
       "        vertical-align: middle;\n",
       "    }\n",
       "\n",
       "    .dataframe tbody tr th {\n",
       "        vertical-align: top;\n",
       "    }\n",
       "\n",
       "    .dataframe thead th {\n",
       "        text-align: right;\n",
       "    }\n",
       "</style>\n",
       "<table border=\"1\" class=\"dataframe\">\n",
       "  <thead>\n",
       "    <tr style=\"text-align: right;\">\n",
       "      <th></th>\n",
       "      <th>property type</th>\n",
       "      <th>price</th>\n",
       "      <th>beds</th>\n",
       "      <th>baths</th>\n",
       "      <th>square feet</th>\n",
       "      <th>lot size</th>\n",
       "      <th>year built</th>\n",
       "      <th>days on market</th>\n",
       "      <th>$/square feet</th>\n",
       "      <th>hoa/month</th>\n",
       "      <th>status</th>\n",
       "      <th>latitude</th>\n",
       "      <th>longitude</th>\n",
       "    </tr>\n",
       "  </thead>\n",
       "  <tbody>\n",
       "    <tr>\n",
       "      <th>0</th>\n",
       "      <td>Single Family Residential</td>\n",
       "      <td>5690000</td>\n",
       "      <td>5.0</td>\n",
       "      <td>6.0</td>\n",
       "      <td>4463.0</td>\n",
       "      <td>8953.0</td>\n",
       "      <td>1947.0</td>\n",
       "      <td>5.0</td>\n",
       "      <td>1275.0</td>\n",
       "      <td>NaN</td>\n",
       "      <td>Active</td>\n",
       "      <td>34.038695</td>\n",
       "      <td>-118.494311</td>\n",
       "    </tr>\n",
       "    <tr>\n",
       "      <th>1</th>\n",
       "      <td>Single Family Residential</td>\n",
       "      <td>3749000</td>\n",
       "      <td>2.0</td>\n",
       "      <td>2.5</td>\n",
       "      <td>2246.0</td>\n",
       "      <td>19991.0</td>\n",
       "      <td>1939.0</td>\n",
       "      <td>27.0</td>\n",
       "      <td>1669.0</td>\n",
       "      <td>NaN</td>\n",
       "      <td>Active</td>\n",
       "      <td>34.044506</td>\n",
       "      <td>-118.479619</td>\n",
       "    </tr>\n",
       "    <tr>\n",
       "      <th>2</th>\n",
       "      <td>Condo/Co-op</td>\n",
       "      <td>649000</td>\n",
       "      <td>1.0</td>\n",
       "      <td>1.0</td>\n",
       "      <td>536.0</td>\n",
       "      <td>7523.0</td>\n",
       "      <td>1958.0</td>\n",
       "      <td>54.0</td>\n",
       "      <td>1211.0</td>\n",
       "      <td>334.0</td>\n",
       "      <td>Active</td>\n",
       "      <td>34.022926</td>\n",
       "      <td>-118.489348</td>\n",
       "    </tr>\n",
       "    <tr>\n",
       "      <th>3</th>\n",
       "      <td>Condo/Co-op</td>\n",
       "      <td>1299000</td>\n",
       "      <td>2.0</td>\n",
       "      <td>2.5</td>\n",
       "      <td>1420.0</td>\n",
       "      <td>14988.0</td>\n",
       "      <td>1982.0</td>\n",
       "      <td>133.0</td>\n",
       "      <td>915.0</td>\n",
       "      <td>635.0</td>\n",
       "      <td>Active</td>\n",
       "      <td>34.026306</td>\n",
       "      <td>-118.499872</td>\n",
       "    </tr>\n",
       "    <tr>\n",
       "      <th>4</th>\n",
       "      <td>Condo/Co-op</td>\n",
       "      <td>669000</td>\n",
       "      <td>1.0</td>\n",
       "      <td>1.0</td>\n",
       "      <td>643.0</td>\n",
       "      <td>26025.0</td>\n",
       "      <td>1972.0</td>\n",
       "      <td>19.0</td>\n",
       "      <td>1040.0</td>\n",
       "      <td>451.0</td>\n",
       "      <td>Sold</td>\n",
       "      <td>34.001021</td>\n",
       "      <td>-118.481070</td>\n",
       "    </tr>\n",
       "  </tbody>\n",
       "</table>\n",
       "</div>"
      ],
      "text/plain": [
       "               property type    price  beds  baths  square feet  lot size  \\\n",
       "0  Single Family Residential  5690000   5.0    6.0       4463.0    8953.0   \n",
       "1  Single Family Residential  3749000   2.0    2.5       2246.0   19991.0   \n",
       "2                Condo/Co-op   649000   1.0    1.0        536.0    7523.0   \n",
       "3                Condo/Co-op  1299000   2.0    2.5       1420.0   14988.0   \n",
       "4                Condo/Co-op   669000   1.0    1.0        643.0   26025.0   \n",
       "\n",
       "   year built  days on market  $/square feet  hoa/month  status   latitude  \\\n",
       "0      1947.0             5.0         1275.0        NaN  Active  34.038695   \n",
       "1      1939.0            27.0         1669.0        NaN  Active  34.044506   \n",
       "2      1958.0            54.0         1211.0      334.0  Active  34.022926   \n",
       "3      1982.0           133.0          915.0      635.0  Active  34.026306   \n",
       "4      1972.0            19.0         1040.0      451.0    Sold  34.001021   \n",
       "\n",
       "    longitude  \n",
       "0 -118.494311  \n",
       "1 -118.479619  \n",
       "2 -118.489348  \n",
       "3 -118.499872  \n",
       "4 -118.481070  "
      ]
     },
     "execution_count": 4,
     "metadata": {},
     "output_type": "execute_result"
    }
   ],
   "source": [
    "df = redfin_data[['property type', 'price','beds','baths','square feet','lot size','year built','days on market','$/square feet','hoa/month', 'status','latitude','longitude']]\n",
    "df.head()"
   ]
  },
  {
   "cell_type": "code",
   "execution_count": 5,
   "metadata": {},
   "outputs": [
    {
     "name": "stdout",
     "output_type": "stream",
     "text": [
      "<class 'pandas.core.frame.DataFrame'>\n",
      "RangeIndex: 350 entries, 0 to 349\n",
      "Data columns (total 13 columns):\n",
      " #   Column          Non-Null Count  Dtype  \n",
      "---  ------          --------------  -----  \n",
      " 0   property type   350 non-null    object \n",
      " 1   price           350 non-null    int64  \n",
      " 2   beds            347 non-null    float64\n",
      " 3   baths           347 non-null    float64\n",
      " 4   square feet     331 non-null    float64\n",
      " 5   lot size        326 non-null    float64\n",
      " 6   year built      333 non-null    float64\n",
      " 7   days on market  343 non-null    float64\n",
      " 8   $/square feet   331 non-null    float64\n",
      " 9   hoa/month       208 non-null    float64\n",
      " 10  status          343 non-null    object \n",
      " 11  latitude        350 non-null    float64\n",
      " 12  longitude       350 non-null    float64\n",
      "dtypes: float64(10), int64(1), object(2)\n",
      "memory usage: 35.7+ KB\n"
     ]
    }
   ],
   "source": [
    "df.info()"
   ]
  },
  {
   "cell_type": "code",
   "execution_count": 6,
   "metadata": {
    "collapsed": true
   },
   "outputs": [
    {
     "name": "stderr",
     "output_type": "stream",
     "text": [
      "C:\\Users\\maksi\\anaconda3\\lib\\site-packages\\pandas\\core\\generic.py:5303: SettingWithCopyWarning: \n",
      "A value is trying to be set on a copy of a slice from a DataFrame.\n",
      "Try using .loc[row_indexer,col_indexer] = value instead\n",
      "\n",
      "See the caveats in the documentation: https://pandas.pydata.org/pandas-docs/stable/user_guide/indexing.html#returning-a-view-versus-a-copy\n",
      "  self[name] = value\n"
     ]
    }
   ],
   "source": [
    "df.price = df.price.astype(float)"
   ]
  },
  {
   "cell_type": "code",
   "execution_count": 7,
   "metadata": {},
   "outputs": [
    {
     "name": "stdout",
     "output_type": "stream",
     "text": [
      "<class 'pandas.core.frame.DataFrame'>\n",
      "RangeIndex: 350 entries, 0 to 349\n",
      "Data columns (total 13 columns):\n",
      " #   Column          Non-Null Count  Dtype  \n",
      "---  ------          --------------  -----  \n",
      " 0   property type   350 non-null    object \n",
      " 1   price           350 non-null    float64\n",
      " 2   beds            347 non-null    float64\n",
      " 3   baths           347 non-null    float64\n",
      " 4   square feet     331 non-null    float64\n",
      " 5   lot size        326 non-null    float64\n",
      " 6   year built      333 non-null    float64\n",
      " 7   days on market  343 non-null    float64\n",
      " 8   $/square feet   331 non-null    float64\n",
      " 9   hoa/month       208 non-null    float64\n",
      " 10  status          343 non-null    object \n",
      " 11  latitude        350 non-null    float64\n",
      " 12  longitude       350 non-null    float64\n",
      "dtypes: float64(11), object(2)\n",
      "memory usage: 35.7+ KB\n"
     ]
    }
   ],
   "source": [
    "df.info()"
   ]
  },
  {
   "cell_type": "code",
   "execution_count": 8,
   "metadata": {},
   "outputs": [
    {
     "data": {
      "text/plain": [
       "(array(['Condo/Co-op', 'Multi-Family (2-4 Unit)', 'Multi-Family (5+ Unit)',\n",
       "        'Single Family Residential', 'Townhouse', 'Vacant Land'],\n",
       "       dtype=object),\n",
       " array([164,  18,  19,  96,  50,   3], dtype=int64))"
      ]
     },
     "execution_count": 8,
     "metadata": {},
     "output_type": "execute_result"
    }
   ],
   "source": [
    "np.unique(np.array(df[\"property type\"]), return_counts=True)"
   ]
  },
  {
   "cell_type": "code",
   "execution_count": 9,
   "metadata": {},
   "outputs": [],
   "source": [
    "SO_resid_homes = ['Condo/Co-op', 'Multi-Family (2-4 Unit)', 'Multi-Family (5+ Unit)',\n",
    "        'Single Family Residential', 'Townhouse',]\n",
    "\n",
    "# delete 'Vacant Land' (29 records)"
   ]
  },
  {
   "cell_type": "code",
   "execution_count": 10,
   "metadata": {},
   "outputs": [
    {
     "data": {
      "text/html": [
       "<div>\n",
       "<style scoped>\n",
       "    .dataframe tbody tr th:only-of-type {\n",
       "        vertical-align: middle;\n",
       "    }\n",
       "\n",
       "    .dataframe tbody tr th {\n",
       "        vertical-align: top;\n",
       "    }\n",
       "\n",
       "    .dataframe thead th {\n",
       "        text-align: right;\n",
       "    }\n",
       "</style>\n",
       "<table border=\"1\" class=\"dataframe\">\n",
       "  <thead>\n",
       "    <tr style=\"text-align: right;\">\n",
       "      <th></th>\n",
       "      <th>property type</th>\n",
       "      <th>price</th>\n",
       "      <th>beds</th>\n",
       "      <th>baths</th>\n",
       "      <th>square feet</th>\n",
       "      <th>lot size</th>\n",
       "      <th>year built</th>\n",
       "      <th>days on market</th>\n",
       "      <th>$/square feet</th>\n",
       "      <th>hoa/month</th>\n",
       "      <th>status</th>\n",
       "      <th>latitude</th>\n",
       "      <th>longitude</th>\n",
       "    </tr>\n",
       "  </thead>\n",
       "  <tbody>\n",
       "    <tr>\n",
       "      <th>0</th>\n",
       "      <td>Single Family Residential</td>\n",
       "      <td>5690000.0</td>\n",
       "      <td>5.0</td>\n",
       "      <td>6.0</td>\n",
       "      <td>4463.0</td>\n",
       "      <td>8953.0</td>\n",
       "      <td>1947.0</td>\n",
       "      <td>5.0</td>\n",
       "      <td>1275.0</td>\n",
       "      <td>NaN</td>\n",
       "      <td>Active</td>\n",
       "      <td>34.038695</td>\n",
       "      <td>-118.494311</td>\n",
       "    </tr>\n",
       "    <tr>\n",
       "      <th>1</th>\n",
       "      <td>Single Family Residential</td>\n",
       "      <td>3749000.0</td>\n",
       "      <td>2.0</td>\n",
       "      <td>2.5</td>\n",
       "      <td>2246.0</td>\n",
       "      <td>19991.0</td>\n",
       "      <td>1939.0</td>\n",
       "      <td>27.0</td>\n",
       "      <td>1669.0</td>\n",
       "      <td>NaN</td>\n",
       "      <td>Active</td>\n",
       "      <td>34.044506</td>\n",
       "      <td>-118.479619</td>\n",
       "    </tr>\n",
       "    <tr>\n",
       "      <th>2</th>\n",
       "      <td>Condo/Co-op</td>\n",
       "      <td>649000.0</td>\n",
       "      <td>1.0</td>\n",
       "      <td>1.0</td>\n",
       "      <td>536.0</td>\n",
       "      <td>7523.0</td>\n",
       "      <td>1958.0</td>\n",
       "      <td>54.0</td>\n",
       "      <td>1211.0</td>\n",
       "      <td>334.0</td>\n",
       "      <td>Active</td>\n",
       "      <td>34.022926</td>\n",
       "      <td>-118.489348</td>\n",
       "    </tr>\n",
       "    <tr>\n",
       "      <th>3</th>\n",
       "      <td>Condo/Co-op</td>\n",
       "      <td>1299000.0</td>\n",
       "      <td>2.0</td>\n",
       "      <td>2.5</td>\n",
       "      <td>1420.0</td>\n",
       "      <td>14988.0</td>\n",
       "      <td>1982.0</td>\n",
       "      <td>133.0</td>\n",
       "      <td>915.0</td>\n",
       "      <td>635.0</td>\n",
       "      <td>Active</td>\n",
       "      <td>34.026306</td>\n",
       "      <td>-118.499872</td>\n",
       "    </tr>\n",
       "    <tr>\n",
       "      <th>4</th>\n",
       "      <td>Condo/Co-op</td>\n",
       "      <td>669000.0</td>\n",
       "      <td>1.0</td>\n",
       "      <td>1.0</td>\n",
       "      <td>643.0</td>\n",
       "      <td>26025.0</td>\n",
       "      <td>1972.0</td>\n",
       "      <td>19.0</td>\n",
       "      <td>1040.0</td>\n",
       "      <td>451.0</td>\n",
       "      <td>Sold</td>\n",
       "      <td>34.001021</td>\n",
       "      <td>-118.481070</td>\n",
       "    </tr>\n",
       "  </tbody>\n",
       "</table>\n",
       "</div>"
      ],
      "text/plain": [
       "               property type      price  beds  baths  square feet  lot size  \\\n",
       "0  Single Family Residential  5690000.0   5.0    6.0       4463.0    8953.0   \n",
       "1  Single Family Residential  3749000.0   2.0    2.5       2246.0   19991.0   \n",
       "2                Condo/Co-op   649000.0   1.0    1.0        536.0    7523.0   \n",
       "3                Condo/Co-op  1299000.0   2.0    2.5       1420.0   14988.0   \n",
       "4                Condo/Co-op   669000.0   1.0    1.0        643.0   26025.0   \n",
       "\n",
       "   year built  days on market  $/square feet  hoa/month  status   latitude  \\\n",
       "0      1947.0             5.0         1275.0        NaN  Active  34.038695   \n",
       "1      1939.0            27.0         1669.0        NaN  Active  34.044506   \n",
       "2      1958.0            54.0         1211.0      334.0  Active  34.022926   \n",
       "3      1982.0           133.0          915.0      635.0  Active  34.026306   \n",
       "4      1972.0            19.0         1040.0      451.0    Sold  34.001021   \n",
       "\n",
       "    longitude  \n",
       "0 -118.494311  \n",
       "1 -118.479619  \n",
       "2 -118.489348  \n",
       "3 -118.499872  \n",
       "4 -118.481070  "
      ]
     },
     "execution_count": 10,
     "metadata": {},
     "output_type": "execute_result"
    }
   ],
   "source": [
    "df_a = df.loc[df['property type'].isin(SO_resid_homes)]\n",
    "df_a.head()"
   ]
  },
  {
   "cell_type": "code",
   "execution_count": 11,
   "metadata": {},
   "outputs": [
    {
     "data": {
      "text/plain": [
       "['Condo/Co-op',\n",
       " 'Multi-Family (2-4 Unit)',\n",
       " 'Multi-Family (5+ Unit)',\n",
       " 'Single Family Residential',\n",
       " 'Townhouse']"
      ]
     },
     "execution_count": 11,
     "metadata": {},
     "output_type": "execute_result"
    }
   ],
   "source": [
    "property_types = list(np.unique(df_a[\"property type\"]))\n",
    "property_types"
   ]
  },
  {
   "cell_type": "code",
   "execution_count": 28,
   "metadata": {},
   "outputs": [
    {
     "data": {
      "text/plain": [
       "array([[4463.0, 1275.0, 'Single Family Residential'],\n",
       "       [2246.0, 1669.0, 'Single Family Residential'],\n",
       "       [536.0, 1211.0, 'Condo/Co-op'],\n",
       "       ...,\n",
       "       [1410.0, 929.0, 'Condo/Co-op'],\n",
       "       [746.0, 945.0, 'Condo/Co-op'],\n",
       "       [878.0, 917.0, 'Condo/Co-op']], dtype=object)"
      ]
     },
     "execution_count": 28,
     "metadata": {},
     "output_type": "execute_result"
    }
   ],
   "source": [
    "XY = np.array(df_a[[\"square feet\", \"$/square feet\",\"property type\"]])\n",
    "XY "
   ]
  },
  {
   "cell_type": "code",
   "execution_count": 29,
   "metadata": {},
   "outputs": [],
   "source": [
    "SFINDEX = 0 \n",
    "DSFINDEX = 1\n",
    "PTINDEX = 2"
   ]
  },
  {
   "cell_type": "code",
   "execution_count": 30,
   "metadata": {},
   "outputs": [
    {
     "data": {
      "image/png": "[encoded data removed]",
      "text/plain": [
       "<Figure size 720x720 with 1 Axes>"
      ]
     },
     "metadata": {
      "needs_background": "light"
     },
     "output_type": "display_data"
    }
   ],
   "source": [
    "count=0\n",
    "colors = ['r','b','g','y','k']\n",
    "for i in property_types:\n",
    "    \n",
    "    property_c = XY[:, PTINDEX] == i\n",
    "    sf = XY[property_c][:, SFINDEX]\n",
    "    dsf = XY[property_c][:, DSFINDEX]\n",
    "    \n",
    "    plt.scatter(sf, \n",
    "                dsf, \n",
    "                color = colors[count], \n",
    "                label = property_types[count].upper(), \n",
    "                marker=\"o\")\n",
    "    count+=1\n",
    "\n",
    "plt.legend()\n",
    "plt.grid()\n",
    "plt.xlabel(\"square feet\")\n",
    "plt.ylabel(\"#/square feet\")\n",
    "plt.gcf().set_size_inches(10,10)"
   ]
  },
  {
   "cell_type": "markdown",
   "metadata": {},
   "source": [
    "Let's delete some extreme houses"
   ]
  },
  {
   "cell_type": "code",
   "execution_count": 31,
   "metadata": {},
   "outputs": [
    {
     "data": {
      "text/plain": [
       "array([[2476.0, 268.0, 'Multi-Family (2-4 Unit)'],\n",
       "       [6243.0, 448.0, 'Multi-Family (5+ Unit)'],\n",
       "       [6414.0, 483.0, 'Multi-Family (5+ Unit)'],\n",
       "       ...,\n",
       "       [2900.0, 3017.0, 'Condo/Co-op'],\n",
       "       [610.0, 3031.0, 'Single Family Residential'],\n",
       "       [1400.0, 3214.0, 'Condo/Co-op']], dtype=object)"
      ]
     },
     "execution_count": 31,
     "metadata": {},
     "output_type": "execute_result"
    }
   ],
   "source": [
    "XY_new = XY[XY[:,0].argsort()][:-1]\n",
    "# XY[:,0] sort by first column (square feet)\n",
    "# .argsort() -> sort\n",
    "# [:-1] -> remove last element after sort\n",
    "\n",
    "XY_new = XY_new[XY_new[:,1].argsort()][:-1]\n",
    "\n",
    "XY_new"
   ]
  },
  {
   "cell_type": "code",
   "execution_count": 32,
   "metadata": {},
   "outputs": [
    {
     "data": {
      "image/png": "[encoded data removed]",
      "text/plain": [
       "<Figure size 720x720 with 1 Axes>"
      ]
     },
     "metadata": {
      "needs_background": "light"
     },
     "output_type": "display_data"
    }
   ],
   "source": [
    "count=0\n",
    "colors = ['r','b','g','y','k']\n",
    "for i in property_types:\n",
    "    \n",
    "    property_c = XY_new[:, PTINDEX] == i\n",
    "    sf = XY_new[property_c][:, SFINDEX]\n",
    "    dsf = XY_new[property_c][:, DSFINDEX]\n",
    "    \n",
    "    plt.scatter(sf, \n",
    "                dsf, \n",
    "                color = colors[count], \n",
    "                label = property_types[count].upper(), \n",
    "                marker = \"o\")\n",
    "    count+=1\n",
    "\n",
    "plt.legend()\n",
    "plt.grid()\n",
    "plt.xlabel(\"square feet\")\n",
    "plt.ylabel(\"#/square feet\")\n",
    "plt.gcf().set_size_inches(10,10)"
   ]
  },
  {
   "cell_type": "markdown",
   "metadata": {},
   "source": [
    "Now let's just elminilate all too expensive and too big properties"
   ]
  },
  {
   "cell_type": "code",
   "execution_count": 36,
   "metadata": {},
   "outputs": [],
   "source": [
    "df_b=df_a.loc[(df_a['square feet'] < 6000) & (df_a['$/square feet'] <= 2500)]\n",
    "XY = np.array(df_b[[\"square feet\", \"$/square feet\",\"property type\"]])"
   ]
  },
  {
   "cell_type": "code",
   "execution_count": 37,
   "metadata": {},
   "outputs": [],
   "source": [
    "category = [0,1,2,3,0]\n",
    "property_type_column = np.array(df_b[\"property type\"]).tolist()\n",
    "property_type_column\n",
    "Y = np.array([category[property_types.index(value)] for value in property_type_column])\n",
    "\n",
    "labels = [\"Condo/Townhouse\", \"Multi-Family (2-4 Unit)\", \"Multi-Family (5+ Unit)\", \"Single Family\"]\n",
    "XY = np.array(df_b[[\"square feet\", \"$/square feet\"]])"
   ]
  },
  {
   "cell_type": "code",
   "execution_count": 39,
   "metadata": {},
   "outputs": [
    {
     "data": {
      "image/png": "[encoded data removed]",
      "text/plain": [
       "<Figure size 504x504 with 1 Axes>"
      ]
     },
     "metadata": {
      "needs_background": "light"
     },
     "output_type": "display_data"
    }
   ],
   "source": [
    "colors=[\"r\",\"b\",\"g\",\"y\"]\n",
    "for i in range(4):\n",
    "    sf = XY[Y == i][:,SFINDEX]\n",
    "    dsf = XY[Y == i][:,DSFINDEX]\n",
    "    plt.scatter(sf, \n",
    "                dsf,         \n",
    "                color = colors[i],\n",
    "                label = labels[i],\n",
    "                marker = \"o\")\n",
    "plt.legend()\n",
    "plt.grid()\n",
    "plt.xlabel(\"Square feet\", fontsize=16)\n",
    "plt.ylabel(\"$/Square foot\", fontsize=16)\n",
    "plt.gca().tick_params(which=\"both\",labelsize=16)\n",
    "plt.title(\"Santa Monica\", fontsize=16)\n",
    "plt.gcf().set_size_inches(7,7)"
   ]
  },
  {
   "cell_type": "code",
   "execution_count": 67,
   "metadata": {},
   "outputs": [],
   "source": [
    "from sklearn.neighbors import KNeighborsClassifier\n",
    "from sklearn.model_selection import train_test_split as tss\n",
    "from sklearn.metrics import accuracy_score, confusion_matrix"
   ]
  },
  {
   "cell_type": "code",
   "execution_count": 68,
   "metadata": {},
   "outputs": [
    {
     "data": {
      "text/plain": [
       "0.7567567567567568"
      ]
     },
     "execution_count": 68,
     "metadata": {},
     "output_type": "execute_result"
    }
   ],
   "source": [
    "KNN = KNeighborsClassifier(n_neighbors=3)\n",
    "x_train, x_test, y_train, y_test = tss(XY, Y)\n",
    "model = KNN.fit(x_train, y_train)\n",
    "y_predict = model.predict(x_test)\n",
    "accuracy_score(y_test, y_predict)"
   ]
  },
  {
   "cell_type": "code",
   "execution_count": 69,
   "metadata": {},
   "outputs": [
    {
     "data": {
      "text/plain": [
       "array([[48,  1,  0,  1],\n",
       "       [ 2,  0,  0,  3],\n",
       "       [ 0,  0,  2,  1],\n",
       "       [ 7,  0,  1,  8]], dtype=int64)"
      ]
     },
     "execution_count": 69,
     "metadata": {},
     "output_type": "execute_result"
    }
   ],
   "source": [
    "confusion_matrix(ytest, ypredict)"
   ]
  },
  {
   "cell_type": "code",
   "execution_count": 102,
   "metadata": {},
   "outputs": [
    {
     "data": {
      "image/png": "[encoded data removed]",
      "text/plain": [
       "<Figure size 432x288 with 1 Axes>"
      ]
     },
     "metadata": {
      "needs_background": "light"
     },
     "output_type": "display_data"
    },
    {
     "data": {
      "image/png": "[encoded data removed]",
      "text/plain": [
       "<Figure size 432x288 with 1 Axes>"
      ]
     },
     "metadata": {
      "needs_background": "light"
     },
     "output_type": "display_data"
    }
   ],
   "source": [
    "def evaluate_model(X, Y, method, repeats):\n",
    "    accs=[]\n",
    "    for repeat in range(repeats):\n",
    "        x_train, x_test, y_train, y_test = tss(XY, Y)\n",
    "        method.fit(X,Y)\n",
    "        y_predict = method.predict(x_test)\n",
    "        accs.append(accuracy_score(y_test, y_predict))\n",
    "    return(accs)\n",
    "\n",
    "\n",
    "stats3 = evaluate_model(XY,Y,KNeighborsClassifier(n_neighbors=3),100)\n",
    "stats4 = evaluate_model(XY,Y,KNeighborsClassifier(n_neighbors=4),100)\n",
    "stats5 = evaluate_model(XY,Y,KNeighborsClassifier(n_neighbors=5),100)\n",
    "stats6 = evaluate_model(XY,Y,KNeighborsClassifier(n_neighbors=6),100)\n",
    "\n",
    "import seaborn as sns\n",
    "\n",
    "# sns to plt boxplots\n",
    "plt.boxplot([stats3,stats4,stats5,stats6])\n",
    "plt.show()\n",
    "fig,ax=plt.subplots()\n",
    "sns.boxplot(data=[stats3,stats4,stats5,stats6])\n",
    "plt.show()"
   ]
  },
  {
   "cell_type": "markdown",
   "metadata": {},
   "source": [
    "### Naive Bayes"
   ]
  },
  {
   "cell_type": "code",
   "execution_count": 111,
   "metadata": {},
   "outputs": [
    {
     "name": "stdout",
     "output_type": "stream",
     "text": [
      "GNB: 0.7972972972972973\n",
      "LDA: 0.7567567567567568\n",
      "QDA: 0.7837837837837838\n"
     ]
    },
    {
     "data": {
      "image/png": "[encoded data removed]",
      "text/plain": [
       "<Figure size 1080x720 with 1 Axes>"
      ]
     },
     "metadata": {
      "needs_background": "light"
     },
     "output_type": "display_data"
    }
   ],
   "source": [
    "from sklearn.naive_bayes import GaussianNB\n",
    "from sklearn.discriminant_analysis import LinearDiscriminantAnalysis\n",
    "from sklearn.discriminant_analysis import QuadraticDiscriminantAnalysis\n",
    "\n",
    "# Gaussian\n",
    "GNB = GaussianNB()\n",
    "x_train, x_test, y_train, y_test = tss(XY, Y)\n",
    "model = GNB.fit(x_train, y_train)\n",
    "YP = model.predict(x_test)\n",
    "print(\"GNB:\",accuracy_score(y_test, YP))\n",
    "GNBSTATS = evaluate_model(XY, Y, GNB, 100)\n",
    "\n",
    "# Linear Discriminant Analysis\n",
    "LDA = LinearDiscriminantAnalysis()\n",
    "model = LDA.fit(x_train,y_train)\n",
    "YP = model.predict(x_test)\n",
    "print(\"LDA:\",accuracy_score(y_test, YP))\n",
    "LDASTATS = evaluate_model(XY, Y, LDA, 100)\n",
    "\n",
    "# Quadratic Discriminant Analysis\n",
    "QDA = QuadraticDiscriminantAnalysis()\n",
    "model = QDA.fit(x_train, y_train)\n",
    "YP = model.predict(x_test)\n",
    "print(\"QDA:\",accuracy_score(y_test, YP))\n",
    "QDASTATS = evaluate_model(XY, Y, QDA, 100)\n",
    "\n",
    "sns.boxplot(data=[stats3,stats4,stats5,stats6, GNBSTATS, LDASTATS, QDASTATS])\n",
    "\n",
    "plt.xticks([0,1,2,3,4,5,6],[\"KNN-3\",\"KNN-4\",\"KNN-5\",\"KNN-6\", \"GNB\", \"LDA\", \"QDA\"]);\n",
    "plt.gcf().set_size_inches(15,10)\n",
    "plt.show()"
   ]
  },
  {
   "cell_type": "markdown",
   "metadata": {},
   "source": [
    "### Install GSML and plot decision boundary. \n",
    "### Compare  probabilistic models\n"
   ]
  },
  {
   "cell_type": "code",
   "execution_count": null,
   "metadata": {},
   "outputs": [],
   "source": [
    "import GSML\n",
    "\n",
    "# Analysis methods: \n",
    "KNeighborsClassifier(n_neighbors=5)\n",
    "GNG\n",
    "LDA\n",
    "QDA\n",
    "\n",
    "fig,ax=plt.subplots()\n",
    "GSML.ShowCategories(ax, XY, Y, \"\"\"analysis method\"\"\", nsteps=150,\n",
    "   colors=[\"r\", \"g\",\"b\"])\n",
    "ax.set_xlabel(\"Area\",fontsize=16)\n",
    "ax.set_ylabel(\"Price/Sq Foot\",fontsize=16)\n",
    "ax.tick_params(which=\"both\",labelsize=16)\n",
    "ax.grid()\n",
    "ax.set_title(\"\"\"analysis method\"\"\",fontsize=18)\n",
    "fig.set_size_inches(10,6)\n"
   ]
  }
 ],
 "metadata": {
  "kernelspec": {
   "display_name": "Python 3",
   "language": "python",
   "name": "python3"
  },
  "language_info": {
   "codemirror_mode": {
    "name": "ipython",
    "version": 3
   },
   "file_extension": ".py",
   "mimetype": "text/x-python",
   "name": "python",
   "nbconvert_exporter": "python",
   "pygments_lexer": "ipython3",
   "version": "3.7.6"
  }
 },
 "nbformat": 4,
 "nbformat_minor": 4
}
