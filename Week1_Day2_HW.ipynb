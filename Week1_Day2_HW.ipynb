{
 "cells": [
  {
   "cell_type": "code",
   "execution_count": 5,
   "metadata": {},
   "outputs": [
    {
     "name": "stdout",
     "output_type": "stream",
     "text": [
      "Enter the number of sides: 5\n",
      "Enter the side: 6.5\n",
      "The area of the polygon is : 72.69017017488386\n"
     ]
    }
   ],
   "source": [
    "from math import tan, pi # import pi and tanget\n",
    "\n",
    "n = float(input(\"Enter the number of sides: \"))\n",
    "s = float(input(\"Enter the side: \"))\n",
    "area = (n * s ** 2) / (4 * float(tan(pi / n)))\n",
    "\n",
    "print(\"The area of the polygon is :\", area)"
   ]
  },
  {
   "cell_type": "code",
   "execution_count": 28,
   "metadata": {},
   "outputs": [
    {
     "name": "stdout",
     "output_type": "stream",
     "text": [
      "Enter x1, y1, x2, y2, x3, y3, x4, y4:\n",
      " 2, 2, 5, -1, 4, 2, -1, -2\n",
      "The intersecting point is at (2.88889, 1.11111)\n"
     ]
    }
   ],
   "source": [
    "x1, y1, x2, y2, x3, y3, x4, y4 = map(float, input(\"Enter x1, y1, x2, y2, x3, y3, x4, y4:\\n \").split(\",\"))\n",
    "\n",
    "a = y1 - y2\n",
    "b = -(x1 - x2)\n",
    "e = (y1 - y2) * x1 - (x1 - x2) * y1\n",
    "c = (y3 - y4)\n",
    "d = -(x3 - x4)\n",
    "f = (y3 - y4) * x3 - (x3 - x4) * y3\n",
    "\n",
    "x = (e * d - b * f) / (a * d - b * c)\n",
    "y = (a * f - e * c) / (a * d - b * c)\n",
    "\n",
    "if(((y1 - y2) * (-(x3 - x4)) - (-(x1 - x2)) * (y3 - y4)) == 0):\n",
    "    print(\"The two lines are parallel\")\n",
    "else:    \n",
    "    print(\"The intersecting point is at (\" + str(round(x, 5)) + \", \" + str(round(y, 5)) + \")\")"
   ]
  },
  {
   "cell_type": "code",
   "execution_count": 3,
   "metadata": {},
   "outputs": [
    {
     "name": "stdout",
     "output_type": "stream",
     "text": [
      "Enter coordinates for the three points p0, p1, and p2: 1, 1, 5, 5, 2, 2\n",
      "p2 is on the same line from p0 to p1\n"
     ]
    }
   ],
   "source": [
    "x0, y0, x1, y1, x2, y2 = map(float, input(\"Enter coordinates for the three points p0, p1, and p2: \").split(\",\"))\n",
    "if (((x1 - x0)*(y2 - y0) - (x2 - x0)*(y1 - y0)) > 0):\n",
    "    print(\"p2 is on the left side of the line from p0 to p1\")\n",
    "if (((x1 - x0)*(y2 - y0) - (x2 - x0)*(y1 - y0)) == 0):\n",
    "    print(\"p2 is on the same line from p0 to p1\")\n",
    "if (((x1 - x0)*(y2 - y0) - (x2 - x0)*(y1 - y0)) < 0):\n",
    "    print(\"p2 is on the right side of the line from p0 to p1\")"
   ]
  },
  {
   "cell_type": "code",
   "execution_count": null,
   "metadata": {},
   "outputs": [],
   "source": []
  }
 ],
 "metadata": {
  "kernelspec": {
   "display_name": "Python 3",
   "language": "python",
   "name": "python3"
  },
  "language_info": {
   "codemirror_mode": {
    "name": "ipython",
    "version": 3
   },
   "file_extension": ".py",
   "mimetype": "text/x-python",
   "name": "python",
   "nbconvert_exporter": "python",
   "pygments_lexer": "ipython3",
   "version": "3.7.6"
  }
 },
 "nbformat": 4,
 "nbformat_minor": 4
}
